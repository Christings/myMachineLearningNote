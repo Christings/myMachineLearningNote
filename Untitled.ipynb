{
 "cells": [
  {
   "cell_type": "code",
   "execution_count": 1,
   "metadata": {},
   "outputs": [],
   "source": [
    "import numpy as np\n",
    "import operator"
   ]
  },
  {
   "cell_type": "code",
   "execution_count": 36,
   "metadata": {},
   "outputs": [],
   "source": [
    "def createDataSet():\n",
    "    group=np.array([[1.0,1.1],[1.0,1.0],[0,0],[0,0.1]])\n",
    "    labels=['A','A','B','B']\n",
    "    return group,labels"
   ]
  },
  {
   "cell_type": "code",
   "execution_count": 37,
   "metadata": {},
   "outputs": [],
   "source": [
    "group,labels=createDataSet()"
   ]
  },
  {
   "cell_type": "code",
   "execution_count": 38,
   "metadata": {},
   "outputs": [
    {
     "data": {
      "text/plain": [
       "(array([[1. , 1.1],\n",
       "        [1. , 1. ],\n",
       "        [0. , 0. ],\n",
       "        [0. , 0.1]]), ['A', 'A', 'B', 'B'])"
      ]
     },
     "execution_count": 38,
     "metadata": {},
     "output_type": "execute_result"
    }
   ],
   "source": [
    "group,labels"
   ]
  },
  {
   "cell_type": "code",
   "execution_count": 40,
   "metadata": {},
   "outputs": [
    {
     "name": "stdout",
     "output_type": "stream",
     "text": [
      "dataSetSize: 4\n",
      "diffMat: [[0.  0.1]\n",
      " [0.  0.2]\n",
      " [1.  1.2]\n",
      " [1.  1.1]]\n",
      "sqDiffMat: [[0.   0.01]\n",
      " [0.   0.04]\n",
      " [1.   1.44]\n",
      " [1.   1.21]]\n",
      "sqDistances: [0.01 0.04 2.44 2.21]\n",
      "distances: [0.1        0.2        1.56204994 1.48660687]\n",
      "sortedDistIndicies: [0 1 3 2]\n",
      "voteIlable: A\n",
      "0\n",
      "classCount: {'A': 1}\n",
      "voteIlable: A\n",
      "1\n",
      "classCount: {'A': 2}\n",
      "voteIlable: B\n",
      "0\n",
      "classCount: {'A': 2, 'B': 1}\n",
      "[('A', 2), ('B', 1)]\n"
     ]
    },
    {
     "data": {
      "text/plain": [
       "'A'"
      ]
     },
     "execution_count": 40,
     "metadata": {},
     "output_type": "execute_result"
    }
   ],
   "source": [
    "def classify0(inX,dataSet,labels,k):\n",
    "    dataSetSize=dataSet.shape[0] # dataSet的行数\n",
    "    print(\"dataSetSize:\",dataSetSize)\n",
    "    diffMat=np.tile(inX,(dataSetSize,1))-dataSet # 构造一个和dataSet一样的矩阵，再和dataSet相减\n",
    "    print(\"diffMat:\",diffMat)\n",
    "    sqDiffMat=diffMat**2 # 矩阵的平方\n",
    "    print(\"sqDiffMat:\",sqDiffMat)\n",
    "    sqDistances=sqDiffMat.sum(axis=1) # 按行相加\n",
    "    print(\"sqDistances:\",sqDistances)\n",
    "    distances=sqDistances**0.5 # 开方，求距离\n",
    "    print(\"distances:\",distances)\n",
    "    sortedDistIndicies=distances.argsort() # 对距离排序\n",
    "    print(\"sortedDistIndicies:\",sortedDistIndicies)\n",
    "    classCount={}\n",
    "    for i in range(k):\n",
    "        voteIlabel=labels[sortedDistIndicies[i]]\n",
    "        print(\"voteIlable:\",voteIlabel)\n",
    "        classCount[voteIlabel]=classCount.get(voteIlabel,0)+1\n",
    "        print(\"classCount:\",classCount)\n",
    "    sortedClassCount=sorted(classCount.items(),key=operator.itemgetter(1),reverse=True)\n",
    "    print(sortedClassCount)\n",
    "    return sortedClassCount[0][0]\n",
    "classify0([1.0,1.2],group,labels,3)"
   ]
  },
  {
   "cell_type": "code",
   "execution_count": 67,
   "metadata": {},
   "outputs": [],
   "source": [
    "# 将文本记录转换为numpy矩阵\n",
    "def file2matrix(filename):\n",
    "    fr=open(filename)\n",
    "    \n",
    "    numberOfLines=len(fr.readlines())\n",
    "    returnMat=np.zeros((numberOfLines,3)) # 创建一个和文本一样形式的0矩阵\n",
    "    classLabelVector=[]\n",
    "    fr=open(filename)\n",
    "    \n",
    "    index=0\n",
    "    for line in fr.readlines():\n",
    "        line=line.strip()\n",
    "        listFromLine=line.split('\\t')\n",
    "        returnMat[index,:]=listFromLine[0:3]\n",
    "        classLabelVector.append(int(listFromLine[-1]))\n",
    "        index+=1\n",
    "    return returnMat,classLabelVector"
   ]
  },
  {
   "cell_type": "code",
   "execution_count": 72,
   "metadata": {},
   "outputs": [
    {
     "data": {
      "text/plain": [
       "(array([[4.0920000e+04, 8.3269760e+00, 9.5395200e-01],\n",
       "        [1.4488000e+04, 7.1534690e+00, 1.6739040e+00],\n",
       "        [2.6052000e+04, 1.4418710e+00, 8.0512400e-01],\n",
       "        ...,\n",
       "        [2.6575000e+04, 1.0650102e+01, 8.6662700e-01],\n",
       "        [4.8111000e+04, 9.1345280e+00, 7.2804500e-01],\n",
       "        [4.3757000e+04, 7.8826010e+00, 1.3324460e+00]]),\n",
       " [3, 2, 1, 1, 1, 1, 3, 3, 1, 3, 1, 1, 2, 1, 1, 1, 1, 1, 2, 3])"
      ]
     },
     "execution_count": 72,
     "metadata": {},
     "output_type": "execute_result"
    }
   ],
   "source": [
    "datingDataMat,datingLabels=file2matrix('datingTestSet2.txt')\n",
    "datingDataMat,datingLabels[0:20]"
   ]
  },
  {
   "cell_type": "code",
   "execution_count": 99,
   "metadata": {},
   "outputs": [
    {
     "ename": "NameError",
     "evalue": "name 'zhfont' is not defined",
     "output_type": "error",
     "traceback": [
      "\u001b[0;31m---------------------------------------------------------------------------\u001b[0m",
      "\u001b[0;31mNameError\u001b[0m                                 Traceback (most recent call last)",
      "\u001b[0;32m<ipython-input-99-b8b765fc931a>\u001b[0m in \u001b[0;36m<module>\u001b[0;34m()\u001b[0m\n\u001b[1;32m     19\u001b[0m \u001b[0mplt\u001b[0m\u001b[0;34m.\u001b[0m\u001b[0mxlabel\u001b[0m\u001b[0;34m(\u001b[0m\u001b[0;34mu'每年获取的飞行常客里程数'\u001b[0m\u001b[0;34m)\u001b[0m\u001b[0;34m\u001b[0m\u001b[0m\n\u001b[1;32m     20\u001b[0m \u001b[0mplt\u001b[0m\u001b[0;34m.\u001b[0m\u001b[0mylabel\u001b[0m\u001b[0;34m(\u001b[0m\u001b[0;34mu'玩视频游戏所耗时间百分比'\u001b[0m\u001b[0;34m)\u001b[0m\u001b[0;34m\u001b[0m\u001b[0m\n\u001b[0;32m---> 21\u001b[0;31m \u001b[0max\u001b[0m\u001b[0;34m.\u001b[0m\u001b[0mlegend\u001b[0m\u001b[0;34m(\u001b[0m\u001b[0;34m(\u001b[0m\u001b[0mp1\u001b[0m\u001b[0;34m,\u001b[0m\u001b[0mp2\u001b[0m\u001b[0;34m,\u001b[0m\u001b[0mp3\u001b[0m\u001b[0;34m)\u001b[0m\u001b[0;34m,\u001b[0m \u001b[0;34m(\u001b[0m\u001b[0;34mu'不喜欢'\u001b[0m\u001b[0;34m,\u001b[0m \u001b[0;34mu'魅力一般'\u001b[0m\u001b[0;34m,\u001b[0m \u001b[0;34mu'极具魅力'\u001b[0m\u001b[0;34m)\u001b[0m\u001b[0;34m,\u001b[0m \u001b[0mloc\u001b[0m\u001b[0;34m=\u001b[0m\u001b[0;36m2\u001b[0m\u001b[0;34m,\u001b[0m \u001b[0mprop\u001b[0m\u001b[0;34m=\u001b[0m\u001b[0mzhfont\u001b[0m\u001b[0;34m)\u001b[0m\u001b[0;34m\u001b[0m\u001b[0m\n\u001b[0m\u001b[1;32m     22\u001b[0m \u001b[0mplt\u001b[0m\u001b[0;34m.\u001b[0m\u001b[0mshow\u001b[0m\u001b[0;34m(\u001b[0m\u001b[0;34m)\u001b[0m\u001b[0;34m\u001b[0m\u001b[0m\n",
      "\u001b[0;31mNameError\u001b[0m: name 'zhfont' is not defined"
     ]
    },
    {
     "name": "stderr",
     "output_type": "stream",
     "text": [
      "/anaconda3/envs/tensorflow/lib/python3.6/site-packages/matplotlib/font_manager.py:1328: UserWarning: findfont: Font family ['sans-serif'] not found. Falling back to DejaVu Sans\n",
      "  (prop.get_family(), self.defaultFamily[fontext]))\n"
     ]
    },
    {
     "data": {
      "image/png": "[encoded data removed]",
      "text/plain": [
       "<Figure size 432x288 with 1 Axes>"
      ]
     },
     "metadata": {},
     "output_type": "display_data"
    }
   ],
   "source": [
    "# 分析数据，使用Matplotlib创建散点图\n",
    "import matplotlib\n",
    "import matplotlib.pyplot as plt\n",
    "import numpy as np\n",
    "fig=plt.figure()\n",
    "ax=fig.add_subplot(111)\n",
    "\n",
    "datingLabels = np.array(datingLabels)\n",
    "\n",
    "idx_1=np.where(datingLabels==1)\n",
    "p1=ax.scatter(datingDataMat[idx_1,0],datingDataMat[idx_1,1],color='y',label='1',s=10)\n",
    "idx_2=np.where(datingLabels==2)\n",
    "p2=ax.scatter(datingDataMat[idx_2,0],datingDataMat[idx_2,1],color='g',label='1',s=20)\n",
    "idx_3=np.where(datingLabels==3)\n",
    "p3=ax.scatter(datingDataMat[idx_3,0],datingDataMat[idx_3,1],color='b',label='1',s=30)\n",
    "\n",
    "# ax.scatter(datingDataMat[:,1],datingDataMat[:,2],15.0*np.array(datingLabels),15.0*np.array(datingLabels),c='yellow')\n",
    "\n",
    "plt.xlabel(u'每年获取的飞行常客里程数')\n",
    "plt.ylabel(u'玩视频游戏所耗时间百分比')\n",
    "ax.legend((p1,p2,p3), (u'不喜欢', u'魅力一般', u'极具魅力'), loc=2, prop=zhfont)\n",
    "plt.show()"
   ]
  },
  {
   "cell_type": "code",
   "execution_count": 116,
   "metadata": {},
   "outputs": [],
   "source": [
    "# 归一化特征值\n",
    "def autoNorm(dataSet):\n",
    "    minVals=dataSet.min(0) # 3列数据中的3个最小值\n",
    "    maxVals=dataSet.max(0) # 3列数据中的3个最大值\n",
    "    print(minVals)\n",
    "\n",
    "    ranges=maxVals-minVals\n",
    "    normDateSet=np.zeros(np.shape(dataSet))\n",
    "    print(normDateSet)\n",
    "    m=dataSet.shape[0] # 行数1000\n",
    "    normDateSet=dataSet-np.tile(minVals,(m,1)) #dataSet减去同样格式的最小值组成的矩阵\n",
    "    print(normDateSet)\n",
    "    normDateSet=normDateSet/np.tile(ranges,(m,1))\n",
    "    return normDateSet,ranges,minVals"
   ]
  },
  {
   "cell_type": "markdown",
   "metadata": {},
   "source": [
    "normMat,ranges,minVals=autoNorm(datingDataMat)"
   ]
  },
  {
   "cell_type": "code",
   "execution_count": null,
   "metadata": {},
   "outputs": [],
   "source": [
    "# 分类器针对约会网站的测试代码\n",
    "def datingClassTest():\n",
    "    hoRatio=0.5\n",
    "    datingDataMat,datingLabels=file2matrix('datingTestSet2.txt')\n",
    "    normMat,ranges,minVals=autoNorm(datingDataMat)\n",
    "    m=normMat.shape[0]\n",
    "    numTestVecs=int(m*hoRatio)\n",
    "    errorCount=0.0\n",
    "    for i in range(numTestVecs):\n",
    "        classifierResult=classify0(normDateSet)"
   ]
  }
 ],
 "metadata": {
  "kernelspec": {
   "display_name": "Python 3",
   "language": "python",
   "name": "python3"
  },
  "language_info": {
   "codemirror_mode": {
    "name": "ipython",
    "version": 3
   },
   "file_extension": ".py",
   "mimetype": "text/x-python",
   "name": "python",
   "nbconvert_exporter": "python",
   "pygments_lexer": "ipython3",
   "version": "3.6.2"
  }
 },
 "nbformat": 4,
 "nbformat_minor": 2
}
